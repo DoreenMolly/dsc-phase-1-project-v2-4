{
 "cells": [
  {
   "cell_type": "markdown",
   "metadata": {},
   "source": [
    "## Phase 1 Project Submission\n",
    "\n",
    "#### * Student name: Doreen Wanjiru\n",
    "#### * Student pace: Full Time Hybrid\n",
    "#### * Scheduled project review date/time: 25/03/2024\n",
    "####  * Instructor name: Nikita Njoroge\n",
    "#### * Blog post URL:\n"
   ]
  },
  {
   "cell_type": "markdown",
   "metadata": {},
   "source": [
    "## Problem Statement\n",
    "\n",
    "Microsoft is venturing into the film industry with the establishment of a new movie studio. However, lacking experience in movie production, Microsoft faces the challenge of determining which film genres to prioritize to ensure commercial success. My  project aims to address this issue by providing actionable insights to guide Microsoft's movie production strategy. Through analysis of industry trends and audience preferences, my project seeks to recommend strategic approaches that will enable Microsoft to effectively compete in the dynamic and competitive movie market."
   ]
  },
  {
   "cell_type": "markdown",
   "metadata": {},
   "source": [
    "## Business Understanding\n",
    "\n",
    "It is imperative to conduct a thorough market analysis of the film industry, encompassing major stakeholders and audience preferences. This entails identifying successful film genres through box office performance analysis and examining competitive strategies of existing movie studios. Aligning Microsoft's business goals with the objectives of its new movie studio venture and considering long-term implications will ensure an effective strategy."
   ]
  },
  {
   "cell_type": "markdown",
   "metadata": {},
   "source": [
    "## Data Understanding\n",
    "\n",
    "I will be using the following datasets:\n",
    "\n",
    "im.db.zip which contains tables such as \"movie_basics\" and \"movie_ratings,\" which will offer insights into the basic information and ratings of various movies. \n",
    "\n",
    "bom.movie_gross.csv.gz file which will provide data on box office gross for different movies.\n"
   ]
  },
  {
   "cell_type": "markdown",
   "metadata": {},
   "source": [
    "#### Importing libraries and modules I will use"
   ]
  },
  {
   "cell_type": "code",
   "execution_count": null,
   "metadata": {},
   "outputs": [],
   "source": [
    "import pandas as pd"
   ]
  }
 ],
 "metadata": {
  "kernelspec": {
   "display_name": "Python 3 (ipykernel)",
   "language": "python",
   "name": "python3"
  },
  "language_info": {
   "codemirror_mode": {
    "name": "ipython",
    "version": 3
   },
   "file_extension": ".py",
   "mimetype": "text/x-python",
   "name": "python",
   "nbconvert_exporter": "python",
   "pygments_lexer": "ipython3",
   "version": "3.9.12"
  }
 },
 "nbformat": 4,
 "nbformat_minor": 2
}
